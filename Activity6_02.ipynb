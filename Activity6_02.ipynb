{
 "cells": [
  {
   "cell_type": "markdown",
   "metadata": {},
   "source": [
    "# Activity 6.02: Evaluating a Fashion Image Recognition Model Using CNNs\n",
    "\n",
    "In this activity, we will be training a CNN to recognize clothing images that belong to 10 different classes from the Fashion MNIST dataset. We will be finding the accuracy of this CNN model.\n",
    "\n",
    "  > You can read more about this dataset on TensorFlow's website at [https://www.tensorflow.org/datasets/catalog/fashion_mnist](https://www.tensorflow.org/datasets/catalog/fashion_mnist).\n",
    "\n",
    "The original dataset was shared by Han Xiao.\n",
    "\n",
    "Output:\n",
    "\n",
    "```\n",
    "10000/10000 [==============================] - 1s 108us/sample - loss: 0.2746 - accuracy: 0.8976\n",
    "[0.27461639745235444, 0.8976]\n",
    "```\n",
    "\n",
    "  > **Hints**  \n",
    "  >  * Import the Fashion MNIST dataset.\n",
    "  >  * Reshape the training and testing set.\n",
    "  >  * Standardize the data by applying a division by 255.\n",
    "  >  * Create a neural network architecture with the following layers:\n",
    "  >    * Three convolutional layers with `Conv2D(64, (3,3), activation='relu')` followed by `MaxPooling2D(2,2)`\n",
    "  >    * A flatten layer\n",
    "  >    * A fully connected layer with `Dense(128, activation=relu)`\n",
    "  >    * A fully connected layer with `Dense(10, activation='softmax')`\n",
    "  >  * Specify an `Adam` optimizer with a learning rate of `0.001`.\n",
    "  >  * Train the model.\n",
    "  >  * Evaluate the model on the testing set."
   ]
  },
  {
   "cell_type": "code",
   "execution_count": null,
   "metadata": {},
   "outputs": [],
   "source": []
  },
  {
   "cell_type": "code",
   "execution_count": null,
   "metadata": {},
   "outputs": [],
   "source": []
  },
  {
   "cell_type": "code",
   "execution_count": null,
   "metadata": {},
   "outputs": [],
   "source": []
  },
  {
   "cell_type": "code",
   "execution_count": null,
   "metadata": {},
   "outputs": [],
   "source": []
  },
  {
   "cell_type": "code",
   "execution_count": null,
   "metadata": {},
   "outputs": [],
   "source": []
  },
  {
   "cell_type": "code",
   "execution_count": null,
   "metadata": {},
   "outputs": [],
   "source": []
  },
  {
   "cell_type": "code",
   "execution_count": null,
   "metadata": {},
   "outputs": [],
   "source": []
  },
  {
   "cell_type": "code",
   "execution_count": null,
   "metadata": {},
   "outputs": [],
   "source": []
  }
 ],
 "metadata": {
  "kernelspec": {
   "display_name": "Python 3",
   "language": "python",
   "name": "python3"
  },
  "language_info": {
   "codemirror_mode": {
    "name": "ipython",
    "version": 3
   },
   "file_extension": ".py",
   "mimetype": "text/x-python",
   "name": "python",
   "nbconvert_exporter": "python",
   "pygments_lexer": "ipython3",
   "version": "3.8.5"
  }
 },
 "nbformat": 4,
 "nbformat_minor": 4
}
